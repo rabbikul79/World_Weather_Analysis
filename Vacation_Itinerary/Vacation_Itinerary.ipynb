{
 "cells": [
  {
   "cell_type": "markdown",
   "source": [
    "## Deliverable 3. Create a Travel Itinerary Map."
   ],
   "metadata": {}
  },
  {
   "cell_type": "code",
   "execution_count": 4,
   "source": [
    "# Dependencies and Setup\r\n",
    "import pandas as pd\r\n",
    "import requests\r\n",
    "import gmaps\r\n",
    "\r\n",
    "# Import API key\r\n",
    "from config import g_key\r\n",
    "\r\n",
    "# Configure gmaps\r\n",
    "gmaps.configure(api_key=g_key)"
   ],
   "outputs": [],
   "metadata": {}
  },
  {
   "cell_type": "code",
   "execution_count": 6,
   "source": [
    "# 1. Read the WeatherPy_vacation.csv into a DataFrame.\r\n",
    "vacation_df = pd.read_csv(\"../Vacation_Search/WeatherPy_vacation.csv\")\r\n",
    "vacation_df.head()\r\n"
   ],
   "outputs": [
    {
     "output_type": "execute_result",
     "data": {
      "text/plain": [
       "   City_ID             City Country  Max Temp Current Description      Lat  \\\n",
       "0        0  Bambous Virieux      MU     73.22          light rain -20.3428   \n",
       "1        1             Yako      BF     73.60    scattered clouds  12.9667   \n",
       "2        2             Hilo      US     78.53       moderate rain  19.7297   \n",
       "3        7          Biltine      TD     78.40     overcast clouds  14.5333   \n",
       "4       10          Rikitea      PF     73.40          light rain -23.1203   \n",
       "\n",
       "        Lng                      Hotel Name  \n",
       "0   57.7575                  Casa Tia Villa  \n",
       "1   -2.2667                          CADAAY  \n",
       "2 -155.0900             Hilo Hawaiian Hotel  \n",
       "3   20.9167  Hôtel Trois Étoiles de Biltine  \n",
       "4 -134.9692                 People ThankYou  "
      ],
      "text/html": [
       "<div>\n",
       "<style scoped>\n",
       "    .dataframe tbody tr th:only-of-type {\n",
       "        vertical-align: middle;\n",
       "    }\n",
       "\n",
       "    .dataframe tbody tr th {\n",
       "        vertical-align: top;\n",
       "    }\n",
       "\n",
       "    .dataframe thead th {\n",
       "        text-align: right;\n",
       "    }\n",
       "</style>\n",
       "<table border=\"1\" class=\"dataframe\">\n",
       "  <thead>\n",
       "    <tr style=\"text-align: right;\">\n",
       "      <th></th>\n",
       "      <th>City_ID</th>\n",
       "      <th>City</th>\n",
       "      <th>Country</th>\n",
       "      <th>Max Temp</th>\n",
       "      <th>Current Description</th>\n",
       "      <th>Lat</th>\n",
       "      <th>Lng</th>\n",
       "      <th>Hotel Name</th>\n",
       "    </tr>\n",
       "  </thead>\n",
       "  <tbody>\n",
       "    <tr>\n",
       "      <th>0</th>\n",
       "      <td>0</td>\n",
       "      <td>Bambous Virieux</td>\n",
       "      <td>MU</td>\n",
       "      <td>73.22</td>\n",
       "      <td>light rain</td>\n",
       "      <td>-20.3428</td>\n",
       "      <td>57.7575</td>\n",
       "      <td>Casa Tia Villa</td>\n",
       "    </tr>\n",
       "    <tr>\n",
       "      <th>1</th>\n",
       "      <td>1</td>\n",
       "      <td>Yako</td>\n",
       "      <td>BF</td>\n",
       "      <td>73.60</td>\n",
       "      <td>scattered clouds</td>\n",
       "      <td>12.9667</td>\n",
       "      <td>-2.2667</td>\n",
       "      <td>CADAAY</td>\n",
       "    </tr>\n",
       "    <tr>\n",
       "      <th>2</th>\n",
       "      <td>2</td>\n",
       "      <td>Hilo</td>\n",
       "      <td>US</td>\n",
       "      <td>78.53</td>\n",
       "      <td>moderate rain</td>\n",
       "      <td>19.7297</td>\n",
       "      <td>-155.0900</td>\n",
       "      <td>Hilo Hawaiian Hotel</td>\n",
       "    </tr>\n",
       "    <tr>\n",
       "      <th>3</th>\n",
       "      <td>7</td>\n",
       "      <td>Biltine</td>\n",
       "      <td>TD</td>\n",
       "      <td>78.40</td>\n",
       "      <td>overcast clouds</td>\n",
       "      <td>14.5333</td>\n",
       "      <td>20.9167</td>\n",
       "      <td>Hôtel Trois Étoiles de Biltine</td>\n",
       "    </tr>\n",
       "    <tr>\n",
       "      <th>4</th>\n",
       "      <td>10</td>\n",
       "      <td>Rikitea</td>\n",
       "      <td>PF</td>\n",
       "      <td>73.40</td>\n",
       "      <td>light rain</td>\n",
       "      <td>-23.1203</td>\n",
       "      <td>-134.9692</td>\n",
       "      <td>People ThankYou</td>\n",
       "    </tr>\n",
       "  </tbody>\n",
       "</table>\n",
       "</div>"
      ]
     },
     "metadata": {},
     "execution_count": 6
    }
   ],
   "metadata": {}
  },
  {
   "cell_type": "code",
   "execution_count": 7,
   "source": [
    "# 2. Using the template add the city name, the country code, the weather description and maximum temperature for the city.\r\n",
    "info_box_template = \"\"\"\r\n",
    "<dl>\r\n",
    "<dt>Hotel Name</dt><dd>{Hotel Name}</dd>\r\n",
    "<dt>City</dt><dd>{City}</dd>\r\n",
    "<dt>Country</dt><dd>{Country}</dd>\r\n",
    "<dt>Weather with Max Temp</dt><dd>{Current Description} & {Max Temp} °F</dd>\r\n",
    "</dl>\r\n",
    "\"\"\"\r\n",
    "\r\n",
    "# 3a. Get the data from each row and add it to the formatting template and store the data in a list.\r\n",
    "vacation_info = [info_box_template.format(**row) for index, row in vacation_df.iterrows()]\r\n",
    "\r\n",
    "# 3b. Get the latitude and longitude from each row and store in a new DataFrame.\r\n",
    "locations = vacation_df[[\"Lat\", \"Lng\"]]"
   ],
   "outputs": [],
   "metadata": {}
  },
  {
   "cell_type": "code",
   "execution_count": 8,
   "source": [
    "# 4a. Add a marker layer for each city to the map.\r\n",
    "locations = vacation_df[[\"Lat\", \"Lng\"]]\r\n",
    "max_temp = vacation_df[\"Max Temp\"]\r\n",
    "fig = gmaps.figure(center=(30.0, 31.0), zoom_level=1.5)\r\n",
    "heat_layer = gmaps.heatmap_layer(locations, weights=max_temp,dissipating=False,\r\n",
    "             max_intensity=300, point_radius=4)\r\n",
    "marker_layer = gmaps.marker_layer(locations, info_box_content=vacation_info)\r\n",
    "fig.add_layer(heat_layer)\r\n",
    "fig.add_layer(marker_layer)\r\n",
    "\r\n",
    "# 4b. Display the figure\r\n",
    "fig\r\n"
   ],
   "outputs": [
    {
     "output_type": "display_data",
     "data": {
      "text/plain": [
       "Figure(layout=FigureLayout(height='420px'))"
      ],
      "application/vnd.jupyter.widget-view+json": {
       "version_major": 2,
       "version_minor": 0,
       "model_id": "2d7e1f7da89942a096199338cbad1a5d"
      }
     },
     "metadata": {}
    }
   ],
   "metadata": {}
  },
  {
   "cell_type": "code",
   "execution_count": 23,
   "source": [
    "# From the map above pick 4 cities and create a vacation itinerary route to travel between the four cities. \r\n",
    "# 5. Create DataFrames for each city by filtering the 'vacation_df' using the loc method. \r\n",
    "# Hint: The starting and ending city should be the same city.\r\n",
    "\r\n",
    "vacation_start = vacation_df.loc[(vacation_df[\"City\"] == \"Fortuna\")]\r\n",
    "vacation_end = vacation_df.loc[(vacation_df[\"City\"] == \"Fortuna\")]\r\n",
    "vacation_stop1 = vacation_df.loc[(vacation_df[\"City\"] == \"Winnemucca\")]\r\n",
    "vacation_stop2 = vacation_df.loc[(vacation_df[\"City\"] == \"Pocatello\")]\r\n",
    "vacation_stop3 = vacation_df.loc[(vacation_df[\"City\"] == \"Pierre\")]            \r\n",
    "vacation_start"
   ],
   "outputs": [
    {
     "output_type": "execute_result",
     "data": {
      "text/plain": [
       "     City_ID     City Country  Max Temp Current Description      Lat  \\\n",
       "114      321  Fortuna      US     70.41           clear sky  40.5982   \n",
       "\n",
       "          Lng                  Hotel Name  \n",
       "114 -124.1573  Super 8 by Wyndham Fortuna  "
      ],
      "text/html": [
       "<div>\n",
       "<style scoped>\n",
       "    .dataframe tbody tr th:only-of-type {\n",
       "        vertical-align: middle;\n",
       "    }\n",
       "\n",
       "    .dataframe tbody tr th {\n",
       "        vertical-align: top;\n",
       "    }\n",
       "\n",
       "    .dataframe thead th {\n",
       "        text-align: right;\n",
       "    }\n",
       "</style>\n",
       "<table border=\"1\" class=\"dataframe\">\n",
       "  <thead>\n",
       "    <tr style=\"text-align: right;\">\n",
       "      <th></th>\n",
       "      <th>City_ID</th>\n",
       "      <th>City</th>\n",
       "      <th>Country</th>\n",
       "      <th>Max Temp</th>\n",
       "      <th>Current Description</th>\n",
       "      <th>Lat</th>\n",
       "      <th>Lng</th>\n",
       "      <th>Hotel Name</th>\n",
       "    </tr>\n",
       "  </thead>\n",
       "  <tbody>\n",
       "    <tr>\n",
       "      <th>114</th>\n",
       "      <td>321</td>\n",
       "      <td>Fortuna</td>\n",
       "      <td>US</td>\n",
       "      <td>70.41</td>\n",
       "      <td>clear sky</td>\n",
       "      <td>40.5982</td>\n",
       "      <td>-124.1573</td>\n",
       "      <td>Super 8 by Wyndham Fortuna</td>\n",
       "    </tr>\n",
       "  </tbody>\n",
       "</table>\n",
       "</div>"
      ]
     },
     "metadata": {},
     "execution_count": 23
    }
   ],
   "metadata": {}
  },
  {
   "cell_type": "code",
   "execution_count": 24,
   "source": [
    "vacation_stop1"
   ],
   "outputs": [
    {
     "output_type": "execute_result",
     "data": {
      "text/plain": [
       "     City_ID        City Country  Max Temp Current Description     Lat  \\\n",
       "191      567  Winnemucca      US     75.11           clear sky  40.973   \n",
       "\n",
       "          Lng          Hotel Name  \n",
       "191 -117.7357  Winners Inn Casino  "
      ],
      "text/html": [
       "<div>\n",
       "<style scoped>\n",
       "    .dataframe tbody tr th:only-of-type {\n",
       "        vertical-align: middle;\n",
       "    }\n",
       "\n",
       "    .dataframe tbody tr th {\n",
       "        vertical-align: top;\n",
       "    }\n",
       "\n",
       "    .dataframe thead th {\n",
       "        text-align: right;\n",
       "    }\n",
       "</style>\n",
       "<table border=\"1\" class=\"dataframe\">\n",
       "  <thead>\n",
       "    <tr style=\"text-align: right;\">\n",
       "      <th></th>\n",
       "      <th>City_ID</th>\n",
       "      <th>City</th>\n",
       "      <th>Country</th>\n",
       "      <th>Max Temp</th>\n",
       "      <th>Current Description</th>\n",
       "      <th>Lat</th>\n",
       "      <th>Lng</th>\n",
       "      <th>Hotel Name</th>\n",
       "    </tr>\n",
       "  </thead>\n",
       "  <tbody>\n",
       "    <tr>\n",
       "      <th>191</th>\n",
       "      <td>567</td>\n",
       "      <td>Winnemucca</td>\n",
       "      <td>US</td>\n",
       "      <td>75.11</td>\n",
       "      <td>clear sky</td>\n",
       "      <td>40.973</td>\n",
       "      <td>-117.7357</td>\n",
       "      <td>Winners Inn Casino</td>\n",
       "    </tr>\n",
       "  </tbody>\n",
       "</table>\n",
       "</div>"
      ]
     },
     "metadata": {},
     "execution_count": 24
    }
   ],
   "metadata": {}
  },
  {
   "cell_type": "code",
   "execution_count": 25,
   "source": [
    "vacation_stop2"
   ],
   "outputs": [
    {
     "output_type": "execute_result",
     "data": {
      "text/plain": [
       "     City_ID       City Country  Max Temp Current Description      Lat  \\\n",
       "155      464  Pocatello      US     75.11           clear sky  42.8713   \n",
       "\n",
       "          Lng             Hotel Name  \n",
       "155 -112.4455  Clarion Inn Pocatello  "
      ],
      "text/html": [
       "<div>\n",
       "<style scoped>\n",
       "    .dataframe tbody tr th:only-of-type {\n",
       "        vertical-align: middle;\n",
       "    }\n",
       "\n",
       "    .dataframe tbody tr th {\n",
       "        vertical-align: top;\n",
       "    }\n",
       "\n",
       "    .dataframe thead th {\n",
       "        text-align: right;\n",
       "    }\n",
       "</style>\n",
       "<table border=\"1\" class=\"dataframe\">\n",
       "  <thead>\n",
       "    <tr style=\"text-align: right;\">\n",
       "      <th></th>\n",
       "      <th>City_ID</th>\n",
       "      <th>City</th>\n",
       "      <th>Country</th>\n",
       "      <th>Max Temp</th>\n",
       "      <th>Current Description</th>\n",
       "      <th>Lat</th>\n",
       "      <th>Lng</th>\n",
       "      <th>Hotel Name</th>\n",
       "    </tr>\n",
       "  </thead>\n",
       "  <tbody>\n",
       "    <tr>\n",
       "      <th>155</th>\n",
       "      <td>464</td>\n",
       "      <td>Pocatello</td>\n",
       "      <td>US</td>\n",
       "      <td>75.11</td>\n",
       "      <td>clear sky</td>\n",
       "      <td>42.8713</td>\n",
       "      <td>-112.4455</td>\n",
       "      <td>Clarion Inn Pocatello</td>\n",
       "    </tr>\n",
       "  </tbody>\n",
       "</table>\n",
       "</div>"
      ]
     },
     "metadata": {},
     "execution_count": 25
    }
   ],
   "metadata": {}
  },
  {
   "cell_type": "code",
   "execution_count": 26,
   "source": [
    "vacation_stop3"
   ],
   "outputs": [
    {
     "output_type": "execute_result",
     "data": {
      "text/plain": [
       "     City_ID    City Country  Max Temp Current Description      Lat      Lng  \\\n",
       "201      597  Pierre      US     77.92           clear sky  44.3683 -100.351   \n",
       "\n",
       "        Hotel Name  \n",
       "201  Ramkota Hotel  "
      ],
      "text/html": [
       "<div>\n",
       "<style scoped>\n",
       "    .dataframe tbody tr th:only-of-type {\n",
       "        vertical-align: middle;\n",
       "    }\n",
       "\n",
       "    .dataframe tbody tr th {\n",
       "        vertical-align: top;\n",
       "    }\n",
       "\n",
       "    .dataframe thead th {\n",
       "        text-align: right;\n",
       "    }\n",
       "</style>\n",
       "<table border=\"1\" class=\"dataframe\">\n",
       "  <thead>\n",
       "    <tr style=\"text-align: right;\">\n",
       "      <th></th>\n",
       "      <th>City_ID</th>\n",
       "      <th>City</th>\n",
       "      <th>Country</th>\n",
       "      <th>Max Temp</th>\n",
       "      <th>Current Description</th>\n",
       "      <th>Lat</th>\n",
       "      <th>Lng</th>\n",
       "      <th>Hotel Name</th>\n",
       "    </tr>\n",
       "  </thead>\n",
       "  <tbody>\n",
       "    <tr>\n",
       "      <th>201</th>\n",
       "      <td>597</td>\n",
       "      <td>Pierre</td>\n",
       "      <td>US</td>\n",
       "      <td>77.92</td>\n",
       "      <td>clear sky</td>\n",
       "      <td>44.3683</td>\n",
       "      <td>-100.351</td>\n",
       "      <td>Ramkota Hotel</td>\n",
       "    </tr>\n",
       "  </tbody>\n",
       "</table>\n",
       "</div>"
      ]
     },
     "metadata": {},
     "execution_count": 26
    }
   ],
   "metadata": {}
  },
  {
   "cell_type": "code",
   "execution_count": 27,
   "source": [
    "# 6. Get the latitude-longitude pairs as tuples from each city DataFrame using the to_numpy function and list indexing.\r\n",
    "start = vacation_start[[\"Lat\",\"Lng\"]].to_numpy()[0]  \r\n",
    "end = vacation_end[[\"Lat\",\"Lng\"]].to_numpy()[0]\r\n",
    "stop1 = vacation_stop1[[\"Lat\",\"Lng\"]].to_numpy()[0]\r\n",
    "stop2 = vacation_stop2[[\"Lat\",\"Lng\"]].to_numpy()[0] \r\n",
    "stop3 = vacation_stop3[[\"Lat\",\"Lng\"]].to_numpy()[0] \r\n",
    "start"
   ],
   "outputs": [
    {
     "output_type": "execute_result",
     "data": {
      "text/plain": [
       "array([  40.5982, -124.1573])"
      ]
     },
     "metadata": {},
     "execution_count": 27
    }
   ],
   "metadata": {}
  },
  {
   "cell_type": "code",
   "execution_count": 28,
   "source": [
    "stop1"
   ],
   "outputs": [
    {
     "output_type": "execute_result",
     "data": {
      "text/plain": [
       "array([  40.973 , -117.7357])"
      ]
     },
     "metadata": {},
     "execution_count": 28
    }
   ],
   "metadata": {}
  },
  {
   "cell_type": "code",
   "execution_count": 30,
   "source": [
    "stop2"
   ],
   "outputs": [
    {
     "output_type": "execute_result",
     "data": {
      "text/plain": [
       "array([  42.8713, -112.4455])"
      ]
     },
     "metadata": {},
     "execution_count": 30
    }
   ],
   "metadata": {}
  },
  {
   "cell_type": "code",
   "execution_count": 31,
   "source": [
    "stop3"
   ],
   "outputs": [
    {
     "output_type": "execute_result",
     "data": {
      "text/plain": [
       "array([  44.3683, -100.351 ])"
      ]
     },
     "metadata": {},
     "execution_count": 31
    }
   ],
   "metadata": {}
  },
  {
   "cell_type": "code",
   "execution_count": 32,
   "source": [
    "# 7. Create a direction layer map using the start and end latitude-longitude pairs,\r\n",
    "# and stop1, stop2, and stop3 as the waypoints. The travel_mode should be \"DRIVING\", \"BICYCLING\", or \"WALKING\".\r\n",
    "Fortuna = start\r\n",
    "Winnemucca = stop1\r\n",
    "Pocatello = stop2\r\n",
    "Pierre = stop3\r\n",
    "Fortuna = end\r\n",
    "\r\n",
    "fig = gmaps.figure()\r\n",
    "bud_round_trip = gmaps.directions_layer(\r\n",
    "    Fortuna, Fortuna, waypoints=[Winnemucca, Pocatello, Pierre],\r\n",
    "    travel_mode='DRIVING')\r\n",
    "fig.add_layer(bud_round_trip)\r\n",
    "fig\r\n"
   ],
   "outputs": [
    {
     "output_type": "display_data",
     "data": {
      "text/plain": [
       "Figure(layout=FigureLayout(height='420px'))"
      ],
      "application/vnd.jupyter.widget-view+json": {
       "version_major": 2,
       "version_minor": 0,
       "model_id": "291642d12a354d03b5c62891aaea663b"
      }
     },
     "metadata": {}
    }
   ],
   "metadata": {
    "scrolled": true
   }
  },
  {
   "cell_type": "code",
   "execution_count": 33,
   "source": [
    "# 8. To create a marker layer map between the four cities.\r\n",
    "#  Combine the four city DataFrames into one DataFrame using the concat() function.\r\n",
    "itinerary_df = pd.concat([vacation_start, vacation_stop1, vacation_stop2, vacation_stop3],ignore_index=True)\r\n",
    "itinerary_df"
   ],
   "outputs": [
    {
     "output_type": "execute_result",
     "data": {
      "text/plain": [
       "   City_ID        City Country  Max Temp Current Description      Lat  \\\n",
       "0      321     Fortuna      US     70.41           clear sky  40.5982   \n",
       "1      567  Winnemucca      US     75.11           clear sky  40.9730   \n",
       "2      464   Pocatello      US     75.11           clear sky  42.8713   \n",
       "3      597      Pierre      US     77.92           clear sky  44.3683   \n",
       "\n",
       "        Lng                  Hotel Name  \n",
       "0 -124.1573  Super 8 by Wyndham Fortuna  \n",
       "1 -117.7357          Winners Inn Casino  \n",
       "2 -112.4455       Clarion Inn Pocatello  \n",
       "3 -100.3510               Ramkota Hotel  "
      ],
      "text/html": [
       "<div>\n",
       "<style scoped>\n",
       "    .dataframe tbody tr th:only-of-type {\n",
       "        vertical-align: middle;\n",
       "    }\n",
       "\n",
       "    .dataframe tbody tr th {\n",
       "        vertical-align: top;\n",
       "    }\n",
       "\n",
       "    .dataframe thead th {\n",
       "        text-align: right;\n",
       "    }\n",
       "</style>\n",
       "<table border=\"1\" class=\"dataframe\">\n",
       "  <thead>\n",
       "    <tr style=\"text-align: right;\">\n",
       "      <th></th>\n",
       "      <th>City_ID</th>\n",
       "      <th>City</th>\n",
       "      <th>Country</th>\n",
       "      <th>Max Temp</th>\n",
       "      <th>Current Description</th>\n",
       "      <th>Lat</th>\n",
       "      <th>Lng</th>\n",
       "      <th>Hotel Name</th>\n",
       "    </tr>\n",
       "  </thead>\n",
       "  <tbody>\n",
       "    <tr>\n",
       "      <th>0</th>\n",
       "      <td>321</td>\n",
       "      <td>Fortuna</td>\n",
       "      <td>US</td>\n",
       "      <td>70.41</td>\n",
       "      <td>clear sky</td>\n",
       "      <td>40.5982</td>\n",
       "      <td>-124.1573</td>\n",
       "      <td>Super 8 by Wyndham Fortuna</td>\n",
       "    </tr>\n",
       "    <tr>\n",
       "      <th>1</th>\n",
       "      <td>567</td>\n",
       "      <td>Winnemucca</td>\n",
       "      <td>US</td>\n",
       "      <td>75.11</td>\n",
       "      <td>clear sky</td>\n",
       "      <td>40.9730</td>\n",
       "      <td>-117.7357</td>\n",
       "      <td>Winners Inn Casino</td>\n",
       "    </tr>\n",
       "    <tr>\n",
       "      <th>2</th>\n",
       "      <td>464</td>\n",
       "      <td>Pocatello</td>\n",
       "      <td>US</td>\n",
       "      <td>75.11</td>\n",
       "      <td>clear sky</td>\n",
       "      <td>42.8713</td>\n",
       "      <td>-112.4455</td>\n",
       "      <td>Clarion Inn Pocatello</td>\n",
       "    </tr>\n",
       "    <tr>\n",
       "      <th>3</th>\n",
       "      <td>597</td>\n",
       "      <td>Pierre</td>\n",
       "      <td>US</td>\n",
       "      <td>77.92</td>\n",
       "      <td>clear sky</td>\n",
       "      <td>44.3683</td>\n",
       "      <td>-100.3510</td>\n",
       "      <td>Ramkota Hotel</td>\n",
       "    </tr>\n",
       "  </tbody>\n",
       "</table>\n",
       "</div>"
      ]
     },
     "metadata": {},
     "execution_count": 33
    }
   ],
   "metadata": {}
  },
  {
   "cell_type": "code",
   "execution_count": 34,
   "source": [
    "# 9 Using the template add city name, the country code, the weather description and maximum temperature for the city. \r\n",
    "info_box_template = \"\"\"\r\n",
    "<dl>\r\n",
    "<dt>Hotel Name</dt><dd>{Hotel Name}</dd>\r\n",
    "<dt>City</dt><dd>{City}</dd>\r\n",
    "<dt>Country</dt><dd>{Country}</dd>\r\n",
    "<dt>Weather with Max Temp</dt><dd>{Current Description} & {Max Temp} °F</dd>\r\n",
    "</dl>\r\n",
    "\"\"\"\r\n",
    "\r\n",
    "# 10a Get the data from each row and add it to the formatting template and store the data in a list.\r\n",
    "hotel_info = [info_box_template.format(**row) for index, row in itinerary_df.iterrows()]\r\n",
    "\r\n",
    "# 10b. Get the latitude and longitude from each row and store in a new DataFrame.\r\n",
    "locations = itinerary_df[[\"Lat\", \"Lng\"]]"
   ],
   "outputs": [],
   "metadata": {}
  },
  {
   "cell_type": "code",
   "execution_count": 35,
   "source": [
    "# 11a. Add a marker layer for each city to the map.\r\n",
    "locations = itinerary_df[[\"Lat\", \"Lng\"]]\r\n",
    "max_temp = itinerary_df[\"Max Temp\"]\r\n",
    "fig = gmaps.figure(center=(30.0, 31.0), zoom_level=1.5)\r\n",
    "heat_layer = gmaps.heatmap_layer(locations, weights=max_temp,dissipating=False,\r\n",
    "             max_intensity=300, point_radius=4)\r\n",
    "marker_layer = gmaps.marker_layer(locations, info_box_content=hotel_info)\r\n",
    "fig.add_layer(heat_layer)\r\n",
    "fig.add_layer(marker_layer)\r\n",
    "\r\n",
    "# 11b. Display the figure\r\n",
    "fig"
   ],
   "outputs": [
    {
     "output_type": "display_data",
     "data": {
      "text/plain": [
       "Figure(layout=FigureLayout(height='420px'))"
      ],
      "application/vnd.jupyter.widget-view+json": {
       "version_major": 2,
       "version_minor": 0,
       "model_id": "c58a89a908e44ca2b903998e92d1a176"
      }
     },
     "metadata": {}
    }
   ],
   "metadata": {}
  },
  {
   "cell_type": "code",
   "execution_count": null,
   "source": [],
   "outputs": [],
   "metadata": {}
  }
 ],
 "metadata": {
  "kernelspec": {
   "name": "python3",
   "display_name": "Python 3.7.10 64-bit ('PythonData': conda)"
  },
  "language_info": {
   "codemirror_mode": {
    "name": "ipython",
    "version": 3
   },
   "file_extension": ".py",
   "mimetype": "text/x-python",
   "name": "python",
   "nbconvert_exporter": "python",
   "pygments_lexer": "ipython3",
   "version": "3.7.10"
  },
  "latex_envs": {
   "LaTeX_envs_menu_present": true,
   "autoclose": false,
   "autocomplete": true,
   "bibliofile": "biblio.bib",
   "cite_by": "apalike",
   "current_citInitial": 1,
   "eqLabelWithNumbers": true,
   "eqNumInitial": 1,
   "hotkeys": {
    "equation": "Ctrl-E",
    "itemize": "Ctrl-I"
   },
   "labels_anchors": false,
   "latex_user_defs": false,
   "report_style_numbering": false,
   "user_envs_cfg": false
  },
  "interpreter": {
   "hash": "c32cafb0b4965b91ec6c2415f744abf259ec4cb8458363b67c3f94c3de392762"
  }
 },
 "nbformat": 4,
 "nbformat_minor": 2
}